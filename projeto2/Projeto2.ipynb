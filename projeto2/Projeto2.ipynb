{
 "cells": [
  {
   "cell_type": "markdown",
   "metadata": {},
   "source": [
    "# Codificação e Decodificação usando base64\n",
    "\n",
    "Este código em Python utiliza a biblioteca `base64` para realizar a codificação e decodificação de arquivos binários. O processo envolve a leitura do conteúdo binário de um arquivo, a codificação desse conteúdo usando base64 e, em seguida, a escrita do conteúdo codificado em um novo arquivo. Da mesma forma, a decodificação é realizada revertendo esse processo."
   ]
  },
  {
   "cell_type": "code",
   "execution_count": 8,
   "metadata": {
    "pycharm": {
     "name": "#%%\n"
    }
   },
   "outputs": [],
   "source": [
    "import base64\n",
    "\n",
    "def codificar_arquivo(caminho_entrada, caminho_saida):\n",
    "    with open(caminho_entrada, 'rb') as arquivo_entrada:\n",
    "        # Ler o conteúdo binário do arquivo\n",
    "        conteudo_binario = arquivo_entrada.read()\n",
    "\n",
    "        # Codificar o conteúdo usando base64\n",
    "        conteudo_codificado = base64.b64encode(conteudo_binario)\n",
    "\n",
    "        # Escrever o conteúdo codificado em um novo arquivo\n",
    "        with open(caminho_saida, 'wb') as arquivo_saida:\n",
    "            arquivo_saida.write(conteudo_codificado)\n",
    "\n",
    "def decodificar_arquivo(caminho_entrada, caminho_saida):\n",
    "    with open(caminho_entrada, 'rb') as arquivo_entrada:\n",
    "        # Ler o conteúdo codificado do arquivo\n",
    "        conteudo_codificado = arquivo_entrada.read()\n",
    "\n",
    "        # Decodificar o conteúdo usando base64\n",
    "        conteudo_decodificado = base64.b64decode(conteudo_codificado)\n",
    "\n",
    "        # Escrever o conteúdo decodificado em um novo arquivo\n",
    "        with open(caminho_saida, 'wb') as arquivo_saida:\n",
    "            arquivo_saida.write(conteudo_decodificado)\n",
    " \n",
    "# arquivo txt\n",
    "caminho_entrada = 'dados/entrada/dados.txt'\n",
    "caminho_saida_codificado = 'dados/codificados/dados_codificado.txt'\n",
    "caminho_saida_decodificado = 'dados/decodificados/dados_decodificado.txt'\n",
    "# Codificar o arquivo\n",
    "codificar_arquivo(caminho_entrada, caminho_saida_codificado)\n",
    "# Decodificar o arquivo\n",
    "decodificar_arquivo(caminho_saida_codificado, caminho_saida_decodificado)\n",
    "\n",
    "# arquivo de imagem(jpeg)\n",
    "caminho_entrada = 'dados/entrada/image.jpeg'\n",
    "caminho_saida_codificado = 'dados/codificados/image_codificado.txt'\n",
    "caminho_saida_decodificado = 'dados/decodificados/image_decodificado.jpeg'\n",
    "# Codificar o arquivo\n",
    "codificar_arquivo(caminho_entrada, caminho_saida_codificado)\n",
    "# Decodificar o arquivo\n",
    "decodificar_arquivo(caminho_saida_codificado, caminho_saida_decodificado)\n",
    "\n",
    "# arquivo de audio(wav)\n",
    "caminho_entrada = 'dados/entrada/audio.wav'\n",
    "caminho_saida_codificado = 'dados/codificados/audio_codificado.txt'\n",
    "caminho_saida_decodificado = 'dados/decodificados/audio_decodificado.wav'\n",
    "# Codificar o arquivo\n",
    "codificar_arquivo(caminho_entrada, caminho_saida_codificado)\n",
    "# Decodificar o arquivo\n",
    "decodificar_arquivo(caminho_saida_codificado, caminho_saida_decodificado)\n",
    "\n"
   ]
  },
  {
   "cell_type": "markdown",
   "metadata": {
    "pycharm": {
     "name": "#%% md\n"
    }
   },
   "source": [
    "# Referências\n",
    "* https://www.fileformat.info/mirror/egff/ch09_03.htm\n",
    "* https://en.wikipedia.org/wiki/Lempel–Ziv–Welch"
   ]
  },
  {
   "cell_type": "markdown",
   "metadata": {
    "pycharm": {
     "name": "#%% md\n"
    }
   },
   "source": [
    "Aula remota, conforme Port. 345/2020 – MEC"
   ]
  }
 ],
 "metadata": {
  "kernelspec": {
   "display_name": "Python 3 (ipykernel)",
   "language": "python",
   "name": "python3"
  },
  "language_info": {
   "codemirror_mode": {
    "name": "ipython",
    "version": 3
   },
   "file_extension": ".py",
   "mimetype": "text/x-python",
   "name": "python",
   "nbconvert_exporter": "python",
   "pygments_lexer": "ipython3",
   "version": "3.10.11"
  }
 },
 "nbformat": 4,
 "nbformat_minor": 4
}
